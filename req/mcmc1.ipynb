{
 "cells": [
  {
   "cell_type": "markdown",
   "metadata": {},
   "source": [
    "# MONTECARLO EXAMPLES"
   ]
  },
  {
   "cell_type": "markdown",
   "metadata": {},
   "source": [
    "## Ex: 1 - MONTECARLO SIMULATION OF DART PROBLEM\n",
    "### DART PROBLEM: FIND THE PROBABILITY OF DART FALLING IN THE CIRCLE ON A SQAURE AIM BOARD, DIAMETER OF CIRCLE = SIDE OF SQUARE\n",
    "#### PERFECT ANSWER IS AREA OF CIRCLE/AREA OF SQAURE = pi/4"
   ]
  },
  {
   "cell_type": "code",
   "execution_count": 1,
   "metadata": {},
   "outputs": [],
   "source": [
    "n_samples = 10000"
   ]
  },
  {
   "cell_type": "markdown",
   "metadata": {},
   "source": [
    "n_samples is the no.of points sampled from the square\n",
    "\n",
    "Each point represents a simulated dart throw"
   ]
  },
  {
   "cell_type": "code",
   "execution_count": 2,
   "metadata": {},
   "outputs": [],
   "source": [
    "circ = 0"
   ]
  },
  {
   "cell_type": "markdown",
   "metadata": {},
   "source": [
    "circ represents no.of simulated darts HITTING the CIRCLE"
   ]
  },
  {
   "cell_type": "markdown",
   "metadata": {},
   "source": [
    "after the simulation, circ/n_samples will give the probability"
   ]
  },
  {
   "cell_type": "markdown",
   "metadata": {},
   "source": [
    "higher the n_samples, higher the accuracy of the simulation but also needs high computing power i.e more time to compile\n",
    "\n",
    "### CODE:"
   ]
  },
  {
   "cell_type": "code",
   "execution_count": 2,
   "metadata": {},
   "outputs": [
    {
     "ename": "NameError",
     "evalue": "name 'n_samples' is not defined",
     "output_type": "error",
     "traceback": [
      "\u001b[0;31m---------------------------------------------------------------------------\u001b[0m",
      "\u001b[0;31mNameError\u001b[0m                                 Traceback (most recent call last)",
      "\u001b[1;32m/media/darkwake/VIB2/Project-IceCube/req/mcmc1.ipynb Cell 9'\u001b[0m in \u001b[0;36m<cell line: 3>\u001b[0;34m()\u001b[0m\n\u001b[1;32m      <a href='vscode-notebook-cell:/media/darkwake/VIB2/Project-IceCube/req/mcmc1.ipynb#ch0000008?line=0'>1</a>\u001b[0m \u001b[39mimport\u001b[39;00m \u001b[39mrandom\u001b[39;00m \u001b[39mas\u001b[39;00m \u001b[39mrand\u001b[39;00m\n\u001b[1;32m      <a href='vscode-notebook-cell:/media/darkwake/VIB2/Project-IceCube/req/mcmc1.ipynb#ch0000008?line=1'>2</a>\u001b[0m \u001b[39mimport\u001b[39;00m \u001b[39mnumpy\u001b[39;00m \u001b[39mas\u001b[39;00m \u001b[39mnp\u001b[39;00m\n\u001b[0;32m----> <a href='vscode-notebook-cell:/media/darkwake/VIB2/Project-IceCube/req/mcmc1.ipynb#ch0000008?line=2'>3</a>\u001b[0m \u001b[39mfor\u001b[39;00m i \u001b[39min\u001b[39;00m \u001b[39mrange\u001b[39m(\u001b[39m0\u001b[39m, n_samples):\n\u001b[1;32m      <a href='vscode-notebook-cell:/media/darkwake/VIB2/Project-IceCube/req/mcmc1.ipynb#ch0000008?line=3'>4</a>\u001b[0m     x \u001b[39m=\u001b[39m rand\u001b[39m.\u001b[39mrandrange(\u001b[39m-\u001b[39m\u001b[39m1\u001b[39m,\u001b[39m1\u001b[39m)\n\u001b[1;32m      <a href='vscode-notebook-cell:/media/darkwake/VIB2/Project-IceCube/req/mcmc1.ipynb#ch0000008?line=4'>5</a>\u001b[0m     y \u001b[39m=\u001b[39m rand\u001b[39m.\u001b[39mrandrange(\u001b[39m-\u001b[39m\u001b[39m1\u001b[39m,\u001b[39m1\u001b[39m)\n",
      "\u001b[0;31mNameError\u001b[0m: name 'n_samples' is not defined"
     ]
    }
   ],
   "source": [
    "import random as rand\n",
    "import numpy as np\n",
    "for i in range(0, n_samples):\n",
    "    x = rand.randrange(-1,1)\n",
    "    y = rand.randrange(-1,1)\n",
    "\n",
    "    if (x**2 + y**2 <= 1) :\n",
    "        circ+=1\n",
    "\n",
    "print(f'EXPECTED VALUE: {np.pi/4.0}')\n",
    "print(f'SIMULATION OUTPUT for {n_samples} samples: {float(circ)/float(n_samples)}')\n",
    "circ = 0"
   ]
  },
  {
   "cell_type": "markdown",
   "metadata": {},
   "source": [
    "EXPECTED VALUE: 0.7853981633974483\n",
    "\n",
    "SIMULATION OUTPUT for 100 samples: 0.7\n",
    "\n",
    "SIMULATION OUTPUT for 1000 samples: 0.753\n",
    "\n",
    "SIMULATION OUTPUT for 10000 samples: 0.7481\n",
    "\n",
    "SIMULATION OUTPUT for 100000 samples: 0.75151\n",
    "\n",
    "SIMULATION OUTPUT for 1000000 samples: 0.749671\n",
    "\n",
    "SIMULATION OUTPUT for 100000000 samples: 0.75003486 - runtime 2m 0.2s\n",
    "\n"
   ]
  },
  {
   "cell_type": "markdown",
   "metadata": {},
   "source": [
    "## Ex: 2\n",
    "\n",
    "### IN A GAME, THE PROBABILITY OF WINNING IS 'p'. EACH ROUND GAME ENDS AFTER 2 CONSECUTIVE LOSSES\n",
    "\n",
    "### WHAT IS THE EXPECTED VALUE OF no.of ROUNDS?"
   ]
  },
  {
   "cell_type": "markdown",
   "metadata": {},
   "source": [
    "NORMAL SOLUTION:\n",
    "\n",
    "P(loss after 1st game) = 0\n",
    "\n",
    "P(loss after 2nd game) = LL = (1 - p) ** 2\n",
    "\n",
    "P(loss after 3rd game) = WLL = p * ((1 - p) ** 2)\n",
    "\n",
    "P(loss after 4th game) = WWLL + LWLL =  ((1-p)*p + p ** 2) * ((1 - p) ** 2) = p * ((1 - p) ** 2)\n",
    "\n",
    "P(loss after 5th game) = WWWLL + WLWLL + LWWLL = (W + LW)WLL = (p + p(1-p)) * p * ((1 - p) ** 2) = [2p - (p ** 2)] * [p * ((1 - p) ** 2)]\n",
    "\n",
    "P(loss after 6th game) = {WWW + WWL + WLW + LWW + LWL}*WLL = {W + WlW}*WLL = [p + (p ** 2) * (1 - p)] * [p * ((1 - p) ** 2)]\n",
    "\n",
    "P(loss after 7th game) = {WWWW + WWWL + WWLW + WLWW + WLWL + LWWW + LWWL + LWLW}*WLL = {WW + WLW + LWW}*WLL = [p ** 2 + 2(p ** 2) * (1 - p)] * [p * ((1 - p) ** 2)]"
   ]
  },
  {
   "cell_type": "markdown",
   "metadata": {},
   "source": [
    "WE TRY TO HARD CODE THE PROBLEM i.e, WE EXACTLY SIMULATE THE PROBLEM USING MONTE CARLO METHODS"
   ]
  },
  {
   "cell_type": "markdown",
   "metadata": {},
   "source": [
    "CODE:"
   ]
  },
  {
   "cell_type": "code",
   "execution_count": 14,
   "metadata": {},
   "outputs": [
    {
     "name": "stdout",
     "output_type": "stream",
     "text": [
      "EXPECTED VALUE: 6\n",
      "SIMULATED VALUE: 6.0023718\n"
     ]
    }
   ],
   "source": [
    "import random as rand\n",
    "import numpy as np\n",
    "rounds= 0.0\n",
    "nsims = 10000000\n",
    "p = 0.5\n",
    "for i in range(1, nsims):\n",
    "    r = 0\n",
    "    nloss = 0\n",
    "    while nloss != 2:\n",
    "        r+=1\n",
    "        if rand.random() < p:\n",
    "            nloss = 0\n",
    "        else:\n",
    "            nloss += 1\n",
    "    rounds+=r\n",
    "\n",
    "rounds /= float (nsims)\n",
    "\n",
    "print(f'EXPECTED VALUE: 6\\nSIMULATED VALUE: {rounds}')"
   ]
  },
  {
   "cell_type": "markdown",
   "metadata": {},
   "source": [
    "EXPECTED VALUE: 6\n",
    "\n",
    "SIMULATED VALUE: 6.00006440000644\n",
    "\n",
    "FOR 10000000 SIMULATIONS\n",
    "\n",
    "SIMULATED VALUE: 5.999365339993654\n",
    "\n",
    "FOR 100000000 SIMULATIONS"
   ]
  },
  {
   "cell_type": "code",
   "execution_count": null,
   "metadata": {},
   "outputs": [],
   "source": []
  }
 ],
 "metadata": {
  "interpreter": {
   "hash": "916dbcbb3f70747c44a77c7bcd40155683ae19c65e1c03b4aa3499c5328201f1"
  },
  "kernelspec": {
   "display_name": "Python 3.10.4 64-bit",
   "language": "python",
   "name": "python3"
  },
  "language_info": {
   "codemirror_mode": {
    "name": "ipython",
    "version": 3
   },
   "file_extension": ".py",
   "mimetype": "text/x-python",
   "name": "python",
   "nbconvert_exporter": "python",
   "pygments_lexer": "ipython3",
   "version": "3.10.4"
  },
  "orig_nbformat": 4
 },
 "nbformat": 4,
 "nbformat_minor": 2
}
