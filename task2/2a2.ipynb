{
 "cells": [
  {
   "cell_type": "markdown",
   "metadata": {},
   "source": [
    "### CODE SUMMARY\n",
    "\n",
    "\n",
    "READ ALL DATA                                                                                                                   \n",
    "\n",
    "CONVERT RA, DEC TO SUITABLE DATA_VECTORS FROM THE DATA                                                                          \n",
    "\n",
    "DIVIDE ICECUBE DATA TO 441 LENGTH VECTORS TO MATCH MSPSRDATA VECTOR SIZE                                                        \n",
    "\n",
    "CIRCULARLY ITERATE THROUGH ICECUBE VECTORS TO GET SPACE ANGLES AT 441 x 441 ANGLES PER ITERATION FOR 2373 ITERATIONS            \n",
    "\n",
    "PLOT THE RESULTS IN A GRAPH                                                                                                     \n"
   ]
  },
  {
   "cell_type": "code",
   "execution_count": 1,
   "metadata": {},
   "outputs": [],
   "source": [
    "import numpy as np\n",
    "import pandas as pd\n",
    "import matplotlib.pyplot as plt\n",
    "import os"
   ]
  },
  {
   "cell_type": "code",
   "execution_count": 2,
   "metadata": {},
   "outputs": [],
   "source": [
    "path = \"/media/darkwake/VIB2/Project-IceCube/icecube_10year_ps/events\"\n",
    "filenames = [\"IC40_exp.csv\", \"IC59_exp.csv\",\"IC79_exp.csv\", \"IC86_I_exp.csv\", \"IC86_II_exp.csv\",\n",
    " \"IC86_III_exp.csv\", \"IC86_IV_exp.csv\", \"IC86_V_exp.csv\", \"IC86_VI_exp.csv\", \"IC86_VII_exp.csv\"]"
   ]
  },
  {
   "cell_type": "code",
   "execution_count": 3,
   "metadata": {},
   "outputs": [],
   "source": [
    "file = filenames[0]\n",
    "f = open(os.path.join(path, file), 'r')\n",
    "\n",
    "data = [0,0,0,0]\n",
    "lines = f.readlines()\n",
    "column=lines[0].split()\n",
    "column.pop(0)\n",
    "f.close()"
   ]
  },
  {
   "cell_type": "markdown",
   "metadata": {},
   "source": [
    "#### ICECUBE DATA"
   ]
  },
  {
   "cell_type": "code",
   "execution_count": 4,
   "metadata": {},
   "outputs": [],
   "source": [
    "\n",
    "content = []\n",
    "\n",
    "for file in filenames:\n",
    "    f = open(os.path.join(path, file), 'r')\n",
    "    lines = f.readlines()\n",
    "    for line in lines[1:]:\n",
    "        content.append(line.split())\n",
    "    f.close()\n",
    "\n"
   ]
  },
  {
   "cell_type": "code",
   "execution_count": 5,
   "metadata": {},
   "outputs": [],
   "source": [
    "icdata = pd.DataFrame(content, columns=column)"
   ]
  },
  {
   "cell_type": "markdown",
   "metadata": {},
   "source": [
    "#### MS_PULSAR DATA"
   ]
  },
  {
   "cell_type": "code",
   "execution_count": 6,
   "metadata": {},
   "outputs": [],
   "source": [
    "\n",
    "f = open(\"10milsecpsr.txt\", 'r')\n",
    "lines = f.readlines()\n",
    "\n",
    "content=[]\n",
    "column=lines[3].split()\n",
    "\n",
    "for line in lines[:]:\n",
    "    content.append(line.split())\n",
    "\n",
    "#the INITAL DATABASE IS CLUTTERED SO WE REMOVE THE NULL COLUMNS AND OTHER CLUTTER\n",
    "mspdata = pd.DataFrame(content).drop(range(0,6)).dropna().drop([2,6,8,10,11,13,14], axis=1)\n",
    "f.close()\n",
    "\n",
    "mspdata.columns = column\n",
    "content=[]\n",
    "column=[]\n",
    "file=[]\n",
    "filenames=[]\n",
    "f=[]"
   ]
  },
  {
   "cell_type": "markdown",
   "metadata": {},
   "source": [
    "HAVERSINE FUNCTION TO CALCULATE SPACE ANGLE"
   ]
  },
  {
   "cell_type": "code",
   "execution_count": 7,
   "metadata": {},
   "outputs": [],
   "source": [
    "def hvovec(lon1, lat1, lon2, lat2):\n",
    "\n",
    "    #Convert decimal degrees to Radians:\n",
    "    lon1 = np.radians(lon1)\n",
    "    lat1 = np.radians(lat1)\n",
    "    lon2 = np.radians(lon2)\n",
    "    lat2 = np.radians(lat2)\n",
    "\n",
    "    #Implementing Haversine Formula: \n",
    "    dlon = np.subtract(lon2, lon1)\n",
    "    #dlat = np.subtract(lat2, lat1)\n",
    "\n",
    "    a = np.add(np.multiply(np.sin(lat1), np.sin(lat2)), np.multiply(np.multiply(np.cos(lat1), np.cos(lat2)), np.cos(dlon)))\n",
    "\n",
    "    return np.rad2deg(np.arccos(a))"
   ]
  },
  {
   "cell_type": "markdown",
   "metadata": {},
   "source": [
    "STORE THE DATA IN VECTORS"
   ]
  },
  {
   "cell_type": "code",
   "execution_count": 8,
   "metadata": {},
   "outputs": [],
   "source": [
    "icra = [float(i) for i in icdata['RA[deg]']]\n",
    "icdec = [float(i) for i in icdata['Dec[deg]']]\n",
    "icra.extend([0]*(243))\n",
    "icdec.extend([0]*(243))\n",
    "msra = [float(i) for i in mspdata['RAJD']]\n",
    "msdec = [float(i) for i in mspdata['DECJD']]\n",
    "icdata = []\n",
    "mspdata = []"
   ]
  },
  {
   "cell_type": "markdown",
   "metadata": {},
   "source": [
    "det = [hvovec(icra_s[i], icdec_s[i], msra, msdec) for i in range(0,len(icra_s))]"
   ]
  },
  {
   "cell_type": "markdown",
   "metadata": {},
   "source": [
    "len(icra_s[8])"
   ]
  },
  {
   "cell_type": "code",
   "execution_count": 9,
   "metadata": {},
   "outputs": [],
   "source": [
    "lg = int(len(icra)/len(msra))\n",
    "p = len(msra)\n",
    "r= []\n",
    "for k in range(lg):\n",
    "    ilo = icra[k :p+k]\n",
    "    ila = icdec[k:p+k]\n",
    "    lo =[]\n",
    "    la = []\n",
    "    for j in range(k,p + k):#441\n",
    "                lo = [msra[(i + p)%p] for i in range(0,p)]\n",
    "                la = [msdec[(i + p)%p] for i in range(0,p)]\n",
    "                r.append(hvovec(ilo, ila, lo, la))\n",
    "                "
   ]
  },
  {
   "cell_type": "markdown",
   "metadata": {},
   "source": [
    "'''\n",
    "\n",
    "READ ALL DATA                                                                                                                   Y\n",
    "\n",
    "CONVERT RA, DEC TO SUITABLE DATA_VECTORS FROM THE DATA                                                                          Y\n",
    "\n",
    "DIVIDE ICECUBE DATA TO 441 LENGTH VECTORS TO MATCH MSPSRDATA VECTOR SIZE                                                        Y\n",
    "\n",
    "CIRCULARLY ITERATE THROUGH ICECUBE VECTORS TO GET SPACE ANGLES AT 441 x 441 ANGLES PER ITERATION FOR 2373 ITERATIONS            \n",
    "\n",
    "PLOT THE RESULTS IN A GRAPH                                                                                                     \n",
    "'''"
   ]
  },
  {
   "cell_type": "code",
   "execution_count": 11,
   "metadata": {},
   "outputs": [],
   "source": [
    "r = np.ravel(r)"
   ]
  },
  {
   "cell_type": "code",
   "execution_count": 15,
   "metadata": {},
   "outputs": [
    {
     "data": {
      "image/png": "[encoded data removed]",
      "text/plain": [
       "<Figure size 1872x1152 with 1 Axes>"
      ]
     },
     "metadata": {
      "needs_background": "light"
     },
     "output_type": "display_data"
    }
   ],
   "source": [
    "nbins = np.arange(0, 35, 5)\n",
    "plt.figure(figsize=(26,16))\n",
    "plt.rcParams.update({'font.size': 22})\n",
    "plt.hist(r, bins= nbins)\n",
    "plt.xlabel(\"theta (deg)\")\n",
    "plt.ylabel(\"N\")\n",
    "#plt.ylim([0, 8 * 10**6])\n",
    "plt.suptitle('DISTRIBUTION OF SPACE ANGLE BETWEEN EACH NEUTRINO EVENT DETECTED BY ICECUBE(2008-18) AND\\n EACH MILLISECOND PULSAR IN THE ATNF CATALOGUE(1.67)')\n",
    "plt.grid(True, which=\"both\")\n",
    "#plt.show()\n",
    "plt.savefig('output2a', facecolor='w')"
   ]
  },
  {
   "cell_type": "markdown",
   "metadata": {},
   "source": [
    "OPTIONAL: USING 30 BINS, EACH 1 DEGREE WIDE, FOR BETTER RESOLUTION"
   ]
  },
  {
   "cell_type": "code",
   "execution_count": null,
   "metadata": {},
   "outputs": [],
   "source": [
    "plt.figure(figsize=(26,16))\n",
    "plt.rcParams.update({'font.size': 24})\n",
    "plt.hist(r, bins= np.arange(0, 30))\n",
    "plt.xlabel(\"theta (deg)\")\n",
    "plt.ylabel(\"N\")\n",
    "plt.ticklabel_format(style='sci', axis='y')\n",
    "plt.suptitle('DISTRIBUTION OF SPACE ANGLE BETWEEN EACH NEUTRINO EVENT DETECTED BY ICECUBE(2008-18) AND\\n EACH MILLISECOND PULSAR IN THE ATNF CATALOGUE(1.67)')\n",
    "plt.grid(True, which=\"both\")\n",
    "plt.show()"
   ]
  }
 ],
 "metadata": {
  "interpreter": {
   "hash": "916dbcbb3f70747c44a77c7bcd40155683ae19c65e1c03b4aa3499c5328201f1"
  },
  "kernelspec": {
   "display_name": "Python 3.10.4 64-bit",
   "language": "python",
   "name": "python3"
  },
  "language_info": {
   "codemirror_mode": {
    "name": "ipython",
    "version": 3
   },
   "file_extension": ".py",
   "mimetype": "text/x-python",
   "name": "python",
   "nbconvert_exporter": "python",
   "pygments_lexer": "ipython3",
   "version": "3.10.4"
  },
  "orig_nbformat": 4
 },
 "nbformat": 4,
 "nbformat_minor": 2
}
