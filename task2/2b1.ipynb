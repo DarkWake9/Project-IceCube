{
 "cells": [
  {
   "cell_type": "code",
   "execution_count": 1,
   "metadata": {},
   "outputs": [],
   "source": [
    "import numpy as np\n",
    "import pandas as pd\n",
    "import matplotlib.pyplot as plt\n",
    "import os\n",
    "import astropy.coordinates as asc"
   ]
  },
  {
   "cell_type": "code",
   "execution_count": 2,
   "metadata": {},
   "outputs": [],
   "source": [
    "path = \"/media/darkwake/VIB2/Project-IceCube/icecube_10year_ps/events\"\n",
    "filenames = [\"IC40_exp.csv\", \"IC59_exp.csv\",\"IC79_exp.csv\", \"IC86_I_exp.csv\", \"IC86_II_exp.csv\",\n",
    " \"IC86_III_exp.csv\", \"IC86_IV_exp.csv\", \"IC86_V_exp.csv\", \"IC86_VI_exp.csv\", \"IC86_VII_exp.csv\"]"
   ]
  },
  {
   "cell_type": "code",
   "execution_count": 3,
   "metadata": {},
   "outputs": [],
   "source": [
    "file = filenames[0]\n",
    "f = open(os.path.join(path, file), 'r')\n",
    "\n",
    "data = [0,0,0,0]\n",
    "lines = f.readlines()\n",
    "column=lines[0].split()\n",
    "column.pop(0)\n",
    "f.close()"
   ]
  },
  {
   "cell_type": "code",
   "execution_count": 4,
   "metadata": {},
   "outputs": [],
   "source": [
    "#ICECUBE DATA\n",
    "content = []\n",
    "\n",
    "for file in filenames:\n",
    "    f = open(os.path.join(path, file), 'r')\n",
    "    lines = f.readlines()\n",
    "    for line in lines[1:]:\n",
    "        content.append(line.split())\n",
    "    f.close()\n",
    "\n"
   ]
  },
  {
   "cell_type": "code",
   "execution_count": 5,
   "metadata": {},
   "outputs": [
    {
     "data": {
      "text/html": [
       "<div>\n",
       "<style scoped>\n",
       "    .dataframe tbody tr th:only-of-type {\n",
       "        vertical-align: middle;\n",
       "    }\n",
       "\n",
       "    .dataframe tbody tr th {\n",
       "        vertical-align: top;\n",
       "    }\n",
       "\n",
       "    .dataframe thead th {\n",
       "        text-align: right;\n",
       "    }\n",
       "</style>\n",
       "<table border=\"1\" class=\"dataframe\">\n",
       "  <thead>\n",
       "    <tr style=\"text-align: right;\">\n",
       "      <th></th>\n",
       "      <th>MJD[days]</th>\n",
       "      <th>log10(E/GeV)</th>\n",
       "      <th>AngErr[deg]</th>\n",
       "      <th>RA[deg]</th>\n",
       "      <th>Dec[deg]</th>\n",
       "      <th>Azimuth[deg]</th>\n",
       "      <th>Zenith[deg]</th>\n",
       "    </tr>\n",
       "  </thead>\n",
       "  <tbody>\n",
       "    <tr>\n",
       "      <th>0</th>\n",
       "      <td>54562.37911273</td>\n",
       "      <td>3.31</td>\n",
       "      <td>0.48</td>\n",
       "      <td>203.024</td>\n",
       "      <td>16.760</td>\n",
       "      <td>218.374</td>\n",
       "      <td>106.712</td>\n",
       "    </tr>\n",
       "    <tr>\n",
       "      <th>1</th>\n",
       "      <td>54562.38662244</td>\n",
       "      <td>5.17</td>\n",
       "      <td>0.62</td>\n",
       "      <td>75.024</td>\n",
       "      <td>-13.371</td>\n",
       "      <td>349.100</td>\n",
       "      <td>76.646</td>\n",
       "    </tr>\n",
       "    <tr>\n",
       "      <th>2</th>\n",
       "      <td>54562.38789162</td>\n",
       "      <td>3.92</td>\n",
       "      <td>0.56</td>\n",
       "      <td>97.501</td>\n",
       "      <td>11.290</td>\n",
       "      <td>327.060</td>\n",
       "      <td>101.291</td>\n",
       "    </tr>\n",
       "    <tr>\n",
       "      <th>3</th>\n",
       "      <td>54562.39267689</td>\n",
       "      <td>5.57</td>\n",
       "      <td>1.13</td>\n",
       "      <td>305.857</td>\n",
       "      <td>-33.932</td>\n",
       "      <td>120.413</td>\n",
       "      <td>56.090</td>\n",
       "    </tr>\n",
       "    <tr>\n",
       "      <th>4</th>\n",
       "      <td>54562.40477593</td>\n",
       "      <td>5.80</td>\n",
       "      <td>1.11</td>\n",
       "      <td>143.516</td>\n",
       "      <td>-38.279</td>\n",
       "      <td>287.171</td>\n",
       "      <td>51.684</td>\n",
       "    </tr>\n",
       "    <tr>\n",
       "      <th>...</th>\n",
       "      <td>...</td>\n",
       "      <td>...</td>\n",
       "      <td>...</td>\n",
       "      <td>...</td>\n",
       "      <td>...</td>\n",
       "      <td>...</td>\n",
       "      <td>...</td>\n",
       "    </tr>\n",
       "    <tr>\n",
       "      <th>1134445</th>\n",
       "      <td>58307.96110988</td>\n",
       "      <td>5.14</td>\n",
       "      <td>0.20</td>\n",
       "      <td>221.246</td>\n",
       "      <td>-59.959</td>\n",
       "      <td>141.239</td>\n",
       "      <td>29.956</td>\n",
       "    </tr>\n",
       "    <tr>\n",
       "      <th>1134446</th>\n",
       "      <td>58307.96266638</td>\n",
       "      <td>2.94</td>\n",
       "      <td>1.23</td>\n",
       "      <td>191.547</td>\n",
       "      <td>4.415</td>\n",
       "      <td>171.627</td>\n",
       "      <td>94.312</td>\n",
       "    </tr>\n",
       "    <tr>\n",
       "      <th>1134447</th>\n",
       "      <td>58307.96355617</td>\n",
       "      <td>2.88</td>\n",
       "      <td>0.30</td>\n",
       "      <td>308.127</td>\n",
       "      <td>42.543</td>\n",
       "      <td>55.437</td>\n",
       "      <td>132.606</td>\n",
       "    </tr>\n",
       "    <tr>\n",
       "      <th>1134448</th>\n",
       "      <td>58307.96397167</td>\n",
       "      <td>2.98</td>\n",
       "      <td>0.21</td>\n",
       "      <td>332.199</td>\n",
       "      <td>44.720</td>\n",
       "      <td>31.489</td>\n",
       "      <td>134.811</td>\n",
       "    </tr>\n",
       "    <tr>\n",
       "      <th>1134449</th>\n",
       "      <td>58307.97260325</td>\n",
       "      <td>3.28</td>\n",
       "      <td>0.25</td>\n",
       "      <td>213.309</td>\n",
       "      <td>4.708</td>\n",
       "      <td>153.453</td>\n",
       "      <td>94.619</td>\n",
       "    </tr>\n",
       "  </tbody>\n",
       "</table>\n",
       "<p>1134450 rows × 7 columns</p>\n",
       "</div>"
      ],
      "text/plain": [
       "              MJD[days] log10(E/GeV) AngErr[deg]  RA[deg] Dec[deg]  \\\n",
       "0        54562.37911273         3.31        0.48  203.024   16.760   \n",
       "1        54562.38662244         5.17        0.62   75.024  -13.371   \n",
       "2        54562.38789162         3.92        0.56   97.501   11.290   \n",
       "3        54562.39267689         5.57        1.13  305.857  -33.932   \n",
       "4        54562.40477593         5.80        1.11  143.516  -38.279   \n",
       "...                 ...          ...         ...      ...      ...   \n",
       "1134445  58307.96110988         5.14        0.20  221.246  -59.959   \n",
       "1134446  58307.96266638         2.94        1.23  191.547    4.415   \n",
       "1134447  58307.96355617         2.88        0.30  308.127   42.543   \n",
       "1134448  58307.96397167         2.98        0.21  332.199   44.720   \n",
       "1134449  58307.97260325         3.28        0.25  213.309    4.708   \n",
       "\n",
       "        Azimuth[deg] Zenith[deg]  \n",
       "0            218.374     106.712  \n",
       "1            349.100      76.646  \n",
       "2            327.060     101.291  \n",
       "3            120.413      56.090  \n",
       "4            287.171      51.684  \n",
       "...              ...         ...  \n",
       "1134445      141.239      29.956  \n",
       "1134446      171.627      94.312  \n",
       "1134447       55.437     132.606  \n",
       "1134448       31.489     134.811  \n",
       "1134449      153.453      94.619  \n",
       "\n",
       "[1134450 rows x 7 columns]"
      ]
     },
     "execution_count": 5,
     "metadata": {},
     "output_type": "execute_result"
    }
   ],
   "source": [
    "icdata = pd.DataFrame(content, columns=column)\n",
    "icdata"
   ]
  },
  {
   "cell_type": "code",
   "execution_count": 6,
   "metadata": {},
   "outputs": [
    {
     "data": {
      "text/html": [
       "<div>\n",
       "<style scoped>\n",
       "    .dataframe tbody tr th:only-of-type {\n",
       "        vertical-align: middle;\n",
       "    }\n",
       "\n",
       "    .dataframe tbody tr th {\n",
       "        vertical-align: top;\n",
       "    }\n",
       "\n",
       "    .dataframe thead th {\n",
       "        text-align: right;\n",
       "    }\n",
       "</style>\n",
       "<table border=\"1\" class=\"dataframe\">\n",
       "  <thead>\n",
       "    <tr style=\"text-align: right;\">\n",
       "      <th></th>\n",
       "      <th>#</th>\n",
       "      <th>NAME</th>\n",
       "      <th>Gl</th>\n",
       "      <th>Gb</th>\n",
       "      <th>RAJD</th>\n",
       "      <th>DECJD</th>\n",
       "      <th>P0</th>\n",
       "      <th>F0</th>\n",
       "      <th>DIST</th>\n",
       "    </tr>\n",
       "  </thead>\n",
       "  <tbody>\n",
       "    <tr>\n",
       "      <th>6</th>\n",
       "      <td>1</td>\n",
       "      <td>J0023+0923</td>\n",
       "      <td>111.383</td>\n",
       "      <td>-52.849</td>\n",
       "      <td>5.82032291</td>\n",
       "      <td>9.38996121</td>\n",
       "      <td>0.003050203104754390</td>\n",
       "      <td>327.8470205611185</td>\n",
       "      <td>1.818</td>\n",
       "    </tr>\n",
       "    <tr>\n",
       "      <th>7</th>\n",
       "      <td>2</td>\n",
       "      <td>J0024-7204aa</td>\n",
       "      <td>305.895</td>\n",
       "      <td>-44.889</td>\n",
       "      <td>6.02363</td>\n",
       "      <td>-72.08128</td>\n",
       "      <td>0.00184</td>\n",
       "      <td>543.478261</td>\n",
       "      <td>2.688</td>\n",
       "    </tr>\n",
       "    <tr>\n",
       "      <th>8</th>\n",
       "      <td>3</td>\n",
       "      <td>J0024-7204ab</td>\n",
       "      <td>305.891</td>\n",
       "      <td>-44.891</td>\n",
       "      <td>6.034006</td>\n",
       "      <td>-72.0798894</td>\n",
       "      <td>0.0037046394947985</td>\n",
       "      <td>269.93179806134</td>\n",
       "      <td>2.540</td>\n",
       "    </tr>\n",
       "    <tr>\n",
       "      <th>9</th>\n",
       "      <td>4</td>\n",
       "      <td>J0024-7204ac</td>\n",
       "      <td>305.898</td>\n",
       "      <td>-44.902</td>\n",
       "      <td>6.02363</td>\n",
       "      <td>-72.06806</td>\n",
       "      <td>0.00274</td>\n",
       "      <td>364.963504</td>\n",
       "      <td>4.690</td>\n",
       "    </tr>\n",
       "    <tr>\n",
       "      <th>10</th>\n",
       "      <td>5</td>\n",
       "      <td>J0024-7204ad</td>\n",
       "      <td>305.898</td>\n",
       "      <td>-44.902</td>\n",
       "      <td>6.02363</td>\n",
       "      <td>-72.06806</td>\n",
       "      <td>0.00374</td>\n",
       "      <td>267.379679</td>\n",
       "      <td>4.690</td>\n",
       "    </tr>\n",
       "    <tr>\n",
       "      <th>...</th>\n",
       "      <td>...</td>\n",
       "      <td>...</td>\n",
       "      <td>...</td>\n",
       "      <td>...</td>\n",
       "      <td>...</td>\n",
       "      <td>...</td>\n",
       "      <td>...</td>\n",
       "      <td>...</td>\n",
       "      <td>...</td>\n",
       "    </tr>\n",
       "    <tr>\n",
       "      <th>560</th>\n",
       "      <td>463</td>\n",
       "      <td>J2310-0555</td>\n",
       "      <td>69.702</td>\n",
       "      <td>-57.907</td>\n",
       "      <td>347.526792</td>\n",
       "      <td>-5.92664</td>\n",
       "      <td>0.0026125867919415</td>\n",
       "      <td>382.76240356282</td>\n",
       "      <td>1.556</td>\n",
       "    </tr>\n",
       "    <tr>\n",
       "      <th>561</th>\n",
       "      <td>464</td>\n",
       "      <td>J2317+1439</td>\n",
       "      <td>91.361</td>\n",
       "      <td>-42.360</td>\n",
       "      <td>349.288484923</td>\n",
       "      <td>14.65868362</td>\n",
       "      <td>0.0034452510723611</td>\n",
       "      <td>290.25460815391</td>\n",
       "      <td>1.667</td>\n",
       "    </tr>\n",
       "    <tr>\n",
       "      <th>562</th>\n",
       "      <td>465</td>\n",
       "      <td>J2322+2057</td>\n",
       "      <td>96.515</td>\n",
       "      <td>-37.310</td>\n",
       "      <td>350.5930632</td>\n",
       "      <td>20.9507437</td>\n",
       "      <td>0.0048084282894641</td>\n",
       "      <td>207.96816335831</td>\n",
       "      <td>1.011</td>\n",
       "    </tr>\n",
       "    <tr>\n",
       "      <th>564</th>\n",
       "      <td>466</td>\n",
       "      <td>J2322-2650</td>\n",
       "      <td>28.637</td>\n",
       "      <td>-70.228</td>\n",
       "      <td>350.64433350</td>\n",
       "      <td>-26.84953253</td>\n",
       "      <td>0.00346309917908790</td>\n",
       "      <td>288.758695112907</td>\n",
       "      <td>0.227</td>\n",
       "    </tr>\n",
       "    <tr>\n",
       "      <th>565</th>\n",
       "      <td>467</td>\n",
       "      <td>J2339-0533</td>\n",
       "      <td>81.349</td>\n",
       "      <td>-62.476</td>\n",
       "      <td>354.91142</td>\n",
       "      <td>-5.551478</td>\n",
       "      <td>0.00288422674154723</td>\n",
       "      <td>346.71337922051</td>\n",
       "      <td>1.100</td>\n",
       "    </tr>\n",
       "  </tbody>\n",
       "</table>\n",
       "<p>441 rows × 9 columns</p>\n",
       "</div>"
      ],
      "text/plain": [
       "       #          NAME       Gl       Gb           RAJD         DECJD  \\\n",
       "6      1    J0023+0923  111.383  -52.849     5.82032291    9.38996121   \n",
       "7      2  J0024-7204aa  305.895  -44.889        6.02363     -72.08128   \n",
       "8      3  J0024-7204ab  305.891  -44.891       6.034006   -72.0798894   \n",
       "9      4  J0024-7204ac  305.898  -44.902        6.02363     -72.06806   \n",
       "10     5  J0024-7204ad  305.898  -44.902        6.02363     -72.06806   \n",
       "..   ...           ...      ...      ...            ...           ...   \n",
       "560  463    J2310-0555   69.702  -57.907     347.526792      -5.92664   \n",
       "561  464    J2317+1439   91.361  -42.360  349.288484923   14.65868362   \n",
       "562  465    J2322+2057   96.515  -37.310    350.5930632    20.9507437   \n",
       "564  466    J2322-2650   28.637  -70.228   350.64433350  -26.84953253   \n",
       "565  467    J2339-0533   81.349  -62.476      354.91142     -5.551478   \n",
       "\n",
       "                       P0                 F0   DIST  \n",
       "6    0.003050203104754390  327.8470205611185  1.818  \n",
       "7                 0.00184         543.478261  2.688  \n",
       "8      0.0037046394947985    269.93179806134  2.540  \n",
       "9                 0.00274         364.963504  4.690  \n",
       "10                0.00374         267.379679  4.690  \n",
       "..                    ...                ...    ...  \n",
       "560    0.0026125867919415    382.76240356282  1.556  \n",
       "561    0.0034452510723611    290.25460815391  1.667  \n",
       "562    0.0048084282894641    207.96816335831  1.011  \n",
       "564   0.00346309917908790   288.758695112907  0.227  \n",
       "565   0.00288422674154723    346.71337922051  1.100  \n",
       "\n",
       "[441 rows x 9 columns]"
      ]
     },
     "execution_count": 6,
     "metadata": {},
     "output_type": "execute_result"
    }
   ],
   "source": [
    "#MS_PULSAR\n",
    "f = open(\"10milsecpsr.txt\", 'r')\n",
    "lines = f.readlines()\n",
    "\n",
    "content=[]\n",
    "column=lines[3].split()\n",
    "\n",
    "for line in lines[:]:\n",
    "    content.append(line.split())\n",
    "\n",
    "#the INITAL DATABASE IS CLUTTERED SO WE REMOVE THE NULL COLUMNS AND OTHER CLUTTER\n",
    "mspdata = pd.DataFrame(content).drop(range(0,6)).dropna().drop([2,6,8,10,11,13,14], axis=1)\n",
    "f.close()\n",
    "\n",
    "mspdata.columns = column\n",
    "mspdata\n"
   ]
  },
  {
   "cell_type": "markdown",
   "metadata": {},
   "source": [
    "### HAVERSINE METHOD TO GET THE SPACE ANGLE BETWEEN TWO POINTS GIVEN (RA,DEC)\n",
    "\n",
    "def cel_ang(n_ra, n_dec, p_ra, p_dec):\n",
    "\n",
    "   n_ra = np.deg2rad(n_ra)                     \n",
    "   n_dec = np.deg2rad(n_dec)     \n",
    "   p_ra = np.deg2rad(p_ra)                       \n",
    "   p_dec = np.deg2rad(p_dec)  \n",
    "\n",
    "   d = np.sin((p_ra - n_ra)/2)**2 + np.cos(n_ra)*np.cos(p_ra) * np.sin((p_dec - n_dec)/2)**2\n",
    "\n",
    "   return 2 * np.arcsin(np.sqrt(d))"
   ]
  },
  {
   "cell_type": "markdown",
   "metadata": {},
   "source": [
    "### VECTORIZED HAVERSINE METHOD"
   ]
  },
  {
   "cell_type": "code",
   "execution_count": 7,
   "metadata": {},
   "outputs": [],
   "source": [
    "def hvvec(lon1, lat1, lon2, lat2):\n",
    "\n",
    "    #Convert decimal degrees to Radians:\n",
    "    lon1 = np.radians(lon1)\n",
    "    lat1 = np.radians(lat1)\n",
    "    lon2 = np.radians(lon2)\n",
    "    lat2 = np.radians(lat2)\n",
    "\n",
    "    #Implementing Haversine Formula: \n",
    "    dlon = np.subtract(lon2, lon1)\n",
    "    dlat = np.subtract(lat2, lat1)\n",
    "\n",
    "    a = np.add(np.power(np.sin(np.divide(dlat, 2)), 2),  \n",
    "                          np.multiply(np.cos(lat1), \n",
    "                                      np.multiply(np.cos(lat2), \n",
    "                                                  np.power(np.sin(np.divide(dlon, 2)), 2))))\n",
    "    c = np.multiply(2, np.arcsin(np.sqrt(a)))\n",
    "\n",
    "    return c"
   ]
  },
  {
   "cell_type": "markdown",
   "metadata": {},
   "source": [
    "HAVERSINE WITHOUT APPROXIMATIONS"
   ]
  },
  {
   "cell_type": "code",
   "execution_count": 17,
   "metadata": {},
   "outputs": [],
   "source": [
    "def hvovec(lon1, lat1, lon2, lat2):\n",
    "\n",
    "    #Convert decimal degrees to Radians:\n",
    "    lon1 = np.radians(lon1)\n",
    "    lat1 = np.radians(lat1)\n",
    "    lon2 = np.radians(lon2)\n",
    "    lat2 = np.radians(lat2)\n",
    "\n",
    "    #Implementing Haversine Formula: \n",
    "    dlon = np.subtract(lon2, lon1)\n",
    "    #dlat = np.subtract(lat2, lat1)\n",
    "\n",
    "    a = np.add(np.multiply(np.sin(lat1), np.sin(lat2)), np.multiply(np.multiply(np.cos(lat1), np.cos(lat2)), np.cos(dlon)))\n",
    "\n",
    "    return np.arccos(a)"
   ]
  },
  {
   "cell_type": "code",
   "execution_count": 18,
   "metadata": {},
   "outputs": [
    {
     "data": {
      "text/plain": [
       "441"
      ]
     },
     "execution_count": 18,
     "metadata": {},
     "output_type": "execute_result"
    }
   ],
   "source": [
    "icra = [float(icdata['RA[deg]'][i]) for i in range(0,len(mspdata))]\n",
    "icdec = [float(icdata['Dec[deg]'][i]) for i in range(0,len(mspdata))]\n",
    "msra = [float(i) for i in mspdata['RAJD']]\n",
    "msdec = [float(i) for i in mspdata['DECJD']]\n",
    "msreq = np.array(msra) - np.array(msdec)\n",
    "len(msra)"
   ]
  },
  {
   "cell_type": "markdown",
   "metadata": {},
   "source": [
    "ASTROPY METHOD\n",
    "#ASTROPY METHOD\n",
    "asp = asc.position_angle( np.deg2rad(msra), np.deg2rad(msdec), np.deg2rad(icra), np.deg2rad(icdec))"
   ]
  },
  {
   "cell_type": "code",
   "execution_count": 20,
   "metadata": {},
   "outputs": [],
   "source": [
    "hvs2 = hvvec(np.array(msra), np.array(msdec), np.array(icra), np.array(icdec))"
   ]
  },
  {
   "cell_type": "code",
   "execution_count": 21,
   "metadata": {},
   "outputs": [],
   "source": [
    "hvos = hvovec(np.array(msra), np.array(msdec), np.array(icra), np.array(icdec))"
   ]
  },
  {
   "cell_type": "code",
   "execution_count": 22,
   "metadata": {},
   "outputs": [
    {
     "data": {
      "text/plain": [
       "55.49659028463874"
      ]
     },
     "execution_count": 22,
     "metadata": {},
     "output_type": "execute_result"
    }
   ],
   "source": [
    "np.rad2deg(hvs2[5])"
   ]
  },
  {
   "cell_type": "markdown",
   "metadata": {},
   "source": [
    "55.49659028463874"
   ]
  },
  {
   "cell_type": "markdown",
   "metadata": {},
   "source": [
    "np.rad2deg(asp[5].value)"
   ]
  },
  {
   "cell_type": "markdown",
   "metadata": {},
   "source": [
    "162.1432 (angle between neutrino and pulsar)\n",
    "\n",
    "295.8124(angle between pulsar and neutrino)\n",
    "\n",
    "\n",
    "\n",
    "\n",
    "\n",
    "."
   ]
  },
  {
   "cell_type": "code",
   "execution_count": 24,
   "metadata": {},
   "outputs": [
    {
     "data": {
      "text/plain": [
       "55.496590284638735"
      ]
     },
     "execution_count": 24,
     "metadata": {},
     "output_type": "execute_result"
    }
   ],
   "source": [
    "np.rad2deg(hvos[5])"
   ]
  },
  {
   "cell_type": "markdown",
   "metadata": {},
   "source": [
    "\n",
    "\n",
    "\n",
    "\n",
    "\n",
    "## IGNORE"
   ]
  },
  {
   "cell_type": "markdown",
   "metadata": {},
   "source": [
    "print(f'{icra[5]}, {icdec[5]}\\n {msra[5]}, {msdec[5]}')"
   ]
  },
  {
   "cell_type": "markdown",
   "metadata": {},
   "source": [
    "icra = [float(i) for i in icdata['RA[deg]']]\n",
    "icdec = [float(i) for i in icdata['Dec[deg]']]\n",
    "float(len(icra))/float(len(msra))"
   ]
  },
  {
   "cell_type": "markdown",
   "metadata": {},
   "source": [
    "icra_s = np.array_split(icra[:len(icra)-198], 2572)\n",
    "icdec_s = np.array_split(icdec[:len(icra)-198],2573)"
   ]
  },
  {
   "cell_type": "markdown",
   "metadata": {},
   "source": [
    "len(icra_s[125])\n",
    "\n",
    "#icra_s[2571].append(0)"
   ]
  }
 ],
 "metadata": {
  "interpreter": {
   "hash": "916dbcbb3f70747c44a77c7bcd40155683ae19c65e1c03b4aa3499c5328201f1"
  },
  "kernelspec": {
   "display_name": "Python 3.10.4 64-bit",
   "language": "python",
   "name": "python3"
  },
  "language_info": {
   "codemirror_mode": {
    "name": "ipython",
    "version": 3
   },
   "file_extension": ".py",
   "mimetype": "text/x-python",
   "name": "python",
   "nbconvert_exporter": "python",
   "pygments_lexer": "ipython3",
   "version": "3.10.4"
  },
  "orig_nbformat": 4
 },
 "nbformat": 4,
 "nbformat_minor": 2
}
